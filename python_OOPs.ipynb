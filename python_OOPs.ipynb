{
  "nbformat": 4,
  "nbformat_minor": 0,
  "metadata": {
    "colab": {
      "provenance": []
    },
    "kernelspec": {
      "name": "python3",
      "display_name": "Python 3"
    },
    "language_info": {
      "name": "python"
    }
  },
  "cells": [
    {
      "cell_type": "code",
      "execution_count": null,
      "metadata": {
        "id": "wHexb3hKkpNb"
      },
      "outputs": [],
      "source": []
    },
    {
      "cell_type": "markdown",
      "source": [
        "\n",
        " 1. What is Object-Oriented Programming (OOP)?\n",
        "\n",
        "Ans- Object-oriented programming (OOP) is a computer programming model that organizes software design around objects, or data, instead of logic and functions.\n",
        "2. What is a class in OOP?\n",
        "\n",
        "Ans- In object-oriented programming (OOP), a class is a template that defines the methods and variables for a specific type of object. Classes are a fundamental concept in OOP and are used to create and manage objects.\n",
        "3. What is an object in OOP?\n",
        "\n",
        "Ans- An object is a component of a program that has unique attributes and behaviors, and can interact with other elements of the program.\n",
        "4. What is the difference between abstraction and encapsulation?\n",
        "\n",
        "Ans- Abstraction\n",
        "Hides complex implementation details and exposes only the essential functionalities.\n",
        "Encapsulation\n",
        "Restricts direct access to some components of an object. Encapsulation secures data and functions within a class, preventing unauthorized access and modification.\n",
        "5. What are dunder methods in Python?\n",
        "\n",
        "Ans- Dunder methods, also known as magic methods or special methods, are predefined methods in Python that allow you to customize the behavior of objects and classes.\n",
        "6. Explain the concept of inheritance in OOP?\n",
        "Ans- Inheritance is a fundamental concept in object-oriented programming (OOP) that allows a class to inherit properties and behaviors from another class.\n",
        "7. What is polymorphism in OOP?\n",
        "\n",
        "Ans- Polymorphism is a core concept in object-oriented programming (OOP) that allows objects of different types to be treated as objects of a common superclass.\n",
        "8. How is encapsulation achieved in Python?\n",
        "\n",
        "Ans- In Python, encapsulation is achieved by using access modifiers and property decorators to restrict access to a class's methods and variables.\n",
        "9. What is a constructor in Python?\n",
        "\n",
        "Ans- In Python, a constructor is a special method that's automatically called when an object of a class is created.\n",
        "10. What are class and static methods in Python?\n",
        "\n",
        "Ans- A class method takes cls as the first parameter while a static method needs no specific parameters.\n",
        "11. What is method overloading in Python?\n",
        "\n",
        "Ans- Method overloading is a concept in Python that allows a single function to handle multiple input types or parameters.\n",
        "12. What is method overriding in OOP?\n",
        "\n",
        "Ans- Method overloading is a concept in Python that allows a single function to handle multiple input types or parameters.\n",
        "13. What is a property decorator in Python?\n",
        "Ans- A decorator feature in Python wraps in a function, appends several functionalities to existing code and then returns it.\n",
        "14. Why is polymorphism important in OOP?\n",
        "\n",
        "Ans- It allows for more efficient code, improved readability, and easier extensibility.\n",
        "15. What is an abstract class in Python?\n",
        "\n",
        "Ans- In Python, an abstract class is a class that cannot be instantiated on its own and is used as a blueprint for other classes.\n",
        "16. What are the advantages of OOP?\n",
        "\n",
        "Ans- Object-oriented programming (OOP) has many advantages, including:\n",
        "Modularity\n",
        "\n",
        "OOP allows developers to divide complex systems into smaller, more manageable objects. This makes troubleshooting and collaboration easier.\n",
        "\n",
        "Reusability\n",
        "\n",
        "OOP allows developers to reuse code through inheritance, which saves time and effort.\n",
        "\n",
        "Flexibility\n",
        "\n",
        "OOP's polymorphism feature allows a single function to adapt to the class it's in.\n",
        "\n",
        "Security\n",
        "OOP's encapsulation feature bundles data inside objects, making the code more secure.\n",
        "17. What is the difference between a class variable and an instance variable?\n",
        "\n",
        "Ans-  class variables are shared by all instances of a class, while instance variables are unique to each instance.\n",
        "18. What is multiple inheritance in Python?\n",
        "\n",
        "Ans- In Python, multiple inheritance is when a class is derived from more than one superclass. This allows a child class to inherit all the properties and methods from multiple parent classes.\n",
        "19. Explain the purpose of ‘’__str__’ and ‘__repr__’ ‘ methods in Python.\n",
        "\n",
        "Ans-In Python, the __str__ and __repr__ methods are used to define how an object is represented as a string:\n",
        "\n",
        "str-\n",
        "Returns a human-readable string representation of an object. This method is called when the print(), str(), or format() functions are used. It's intended for users.\n",
        "\n",
        "repr-\n",
        "Returns a more information-rich string representation of an object. This method is called when the repr() function is used or when an object is displayed in the interactive shell.\n",
        "20. What is the significance of the ‘super()’ function in Python?\n",
        "\n",
        "Ans-The super() function in Python is a built-in function that allows access to methods and properties of a parent class from a child class.\n",
        "21. What is the significance of the __del__ method in Python?\n",
        "\n",
        "Ans-The del method in Python, also known as a destructor method, is used to manage resource cleanup when an object is destroyed.\n",
        "22. What is the difference between @staticmethod and @classmethod in Python?\n",
        "\n",
        "Ans- In Python, the main difference between @classmethod and @staticmethod is that class methods take the class as the first argument, while static methods do not.\n",
        "23.  How does polymorphism work in Python with inheritance?\n",
        "\n",
        "Ans- Polymorphism and inheritance in Python work together by allowing child classes to have methods with the same name as their parent class, while also allowing the child class to modify or replace those methods.\n",
        "24. What is method chaining in Python OOP?\n",
        "\n",
        "Ans- In Python object-oriented programming (OOP), method chaining is a technique for calling multiple methods on an object in a single line of code.\n",
        "25. What is the purpose of the __call__ method in Python?\n",
        "\n",
        "Ans-The purpose of the __call__ method in Python is to allow programmers to write classes that behave like functions:\n",
        "The __call__ method allows instances of a class to be called like functions.\n",
        "\n",
        "\n",
        "\n"
      ],
      "metadata": {
        "id": "2LOXU2aWoq6r"
      }
    },
    {
      "cell_type": "code",
      "source": [
        "# Practical\n",
        "#  1. Create a parent class Animal with a method speak() that prints a generic message. Create a child class Dog that overrides the speak() method to print \"Bark!\".\n",
        "class Animal:\n",
        "    def speak(self):\n",
        "        print(\"Generic Animal Sound\")\n",
        "\n",
        "class Dog(Animal):\n",
        "    def speak(self):\n",
        "        print(\"Bark!\")"
      ],
      "metadata": {
        "id": "tntt6y2u1SoE"
      },
      "execution_count": null,
      "outputs": []
    },
    {
      "cell_type": "code",
      "source": [
        "# 2. Write a program to create an abstract class Shape with a method area(). Derive classes Circle and Rectangle from it and implement the area() method in both.\n",
        "Import abc:\n",
        "Class shape:\n",
        "   @abc.abstractmethod\n",
        "   Def area(self) :\n",
        "   Pass\n",
        "Class Circle(Shape) :\n",
        "  Def area(self) :\n",
        "  Return \" Area of circle \"\n",
        "\n",
        "Class Rectangle(Shape) :\n",
        "   Def area (self) :\n",
        "   Return \"area of rectangle\""
      ],
      "metadata": {
        "id": "X3826AXp-Cqo"
      },
      "execution_count": null,
      "outputs": []
    },
    {
      "cell_type": "code",
      "source": [
        "# 3. Implement a multi-level inheritance scenario where a class Vehicle has an attribute type. Derive a class Car and further derive a class ElectricCar that adds a battery attribute.\n",
        "class Vehicle:\n",
        "    def __init__(self, type):\n",
        "        self.type = type\n",
        "\n",
        "class Car(Vehicle): # Corrected indentation for Car class\n",
        "    def __init__(self, type, model, make):\n",
        "        super().__init__(type)  # This line initializes the 'type' attribute from the Vehicle class\n",
        "        self.model = model\n",
        "        self.make = make\n",
        "\n",
        "class ElectricCar(Car): # Corrected indentation for ElectricCar class\n",
        "    def __init__(self, type, model, make, battery):\n",
        "        super().__init__(type, model, make) # This initializes attributes from the Car class\n",
        "        self.battery = battery"
      ],
      "metadata": {
        "id": "NjWkQnYyBXQP"
      },
      "execution_count": null,
      "outputs": []
    },
    {
      "cell_type": "code",
      "source": [
        "# 4. Implement a multi-level inheritance scenario where a class Vehicle has an attribute type. Derive a class Car and further derive a class ElectricCar that adds a battery attribute.\n",
        "class Vehicle:\n",
        "    def __init__(self, type):\n",
        "        self.type = type\n",
        "\n",
        "class Car(Vehicle): # Corrected indentation for Car class\n",
        "    def __init__(self, type, model, make):\n",
        "        super().__init__(type)  # This line initializes the 'type' attribute from the Vehicle class\n",
        "        self.model = model\n",
        "        self.make = make\n",
        "\n",
        "class ElectricCar(Car): # Corrected indentation for ElectricCar class\n",
        "    def __init__(self, type, model, make, battery):\n",
        "        super().__init__(type, model, make) # This initializes attributes from the Car class\n",
        "        self.battery = battery"
      ],
      "metadata": {
        "id": "O0Lq7YmDDxOb"
      },
      "execution_count": null,
      "outputs": []
    },
    {
      "cell_type": "code",
      "source": [
        "# 5. Write a program to demonstrate encapsulation by creating a class BankAccount with private attributes balance and methods to deposit, withdraw, and check balance.\n",
        "class Bank_Account:\n",
        "    def __init__(self):\n",
        "        self.balance=0\n",
        "        print(\"Hello!!! Welcome to the Deposit & Withdrawal Machine\")\n",
        "\n",
        "    def deposit(self):\n",
        "        amount=float(input(\"Enter amount to be Deposited: \"))\n",
        "        self.balance += amount\n",
        "        print(\"\\n Amount Deposited:\",amount)\n",
        "\n",
        "    def withdraw(self):\n",
        "        amount = float(input(\"Enter amount to be Withdrawn: \"))\n",
        "        if self.balance>=amount:\n",
        "            self.balance-=amount\n",
        "            print(\"\\n You Withdrew:\", amount)\n",
        "        else:\n",
        "            print(\"\\n Insufficient balance  \")\n",
        "\n",
        "    def display(self):\n",
        "        print(\"\\n Net Available Balance=\",self.balance)\n",
        "        # creating an object of class\n",
        "s = Bank_Account()\n",
        "\n",
        "# Calling functions with that class object\n",
        "s.deposit()\n",
        "s.withdraw()\n",
        "s.display()"
      ],
      "metadata": {
        "colab": {
          "base_uri": "https://localhost:8080/"
        },
        "id": "FAxCeaABE0b8",
        "outputId": "9ffba61b-6f05-4c40-90a2-1b841e95df17"
      },
      "execution_count": 14,
      "outputs": [
        {
          "output_type": "stream",
          "name": "stdout",
          "text": [
            "Hello!!! Welcome to the Deposit & Withdrawal Machine\n",
            "Enter amount to be Deposited: 500\n",
            "\n",
            " Amount Deposited: 500.0\n",
            "Enter amount to be Withdrawn: 400\n",
            "\n",
            " You Withdrew: 400.0\n",
            "\n",
            " Net Available Balance= 100.0\n"
          ]
        }
      ]
    },
    {
      "cell_type": "code",
      "source": [
        "#6. Demonstrate runtime polymorphism using a method play() in a base class Instrument. Derive classes Guitar and Piano that implement their own version of play().\n",
        "class Instrument:\n",
        "    def play(self):\n",
        "        print(\"Generic Instrument Sound\")\n",
        "\n",
        "class Guitar(Instrument):\n",
        "    def play(self):\n",
        "        print(\"Guitar Sound\")\n",
        "\n",
        "class Piano(Instrument):\n",
        "    def play(self):\n",
        "        print(\"Piano Sound\")"
      ],
      "metadata": {
        "id": "GC45QhzzGWnt"
      },
      "execution_count": 15,
      "outputs": []
    },
    {
      "cell_type": "code",
      "source": [
        "# 7. Create a class MathOperations with a class method add_numbers() to add two numbers and a static method subtract_numbers() to subtract two numbers\n",
        "class MathOperations:\n",
        "    @classmethod\n",
        "    def add_numbers(cls, num1, num2):\n",
        "        return num1 + num2\n",
        "\n",
        "    @staticmethod\n",
        "    def subtract_numbers(num1, num2):\n",
        "        return num1 - num2"
      ],
      "metadata": {
        "id": "h_DUKKZhGnfu"
      },
      "execution_count": 17,
      "outputs": []
    },
    {
      "cell_type": "code",
      "source": [
        "# 8. Implement a class Person with a class method to count the total number of persons created.\n",
        "class Person:\n",
        "    count = 0\n",
        "\n",
        "    def __init__(self):\n",
        "        Person.count += 1\n",
        "\n",
        "    @classmethod\n",
        "    def get_count(cls):\n",
        "        return cls.count"
      ],
      "metadata": {
        "id": "Vkot5ipVG6kn"
      },
      "execution_count": 18,
      "outputs": []
    },
    {
      "cell_type": "code",
      "source": [
        "# 9. Write a class Fraction with attributes numerator and denominator. Override the str method to display the fraction as \"numerator/denominator\".\n",
        "class Fraction:\n",
        "    def __init__(self, numerator, denominator):\n",
        "        self.numerator = numerator\n",
        "        self.denominator = denominator\n",
        "\n",
        "    def __str__(self):\n",
        "        return f\"{self.numerator}/{self.denominator}\""
      ],
      "metadata": {
        "id": "S50p1B4CHJyt"
      },
      "execution_count": 19,
      "outputs": []
    },
    {
      "cell_type": "code",
      "source": [
        "# 10. Demonstrate operator overloading by creating a class Vector and overriding the add method to add two vectors.\n",
        "class Vector:\n",
        "    def __init__(self, x, y):\n",
        "        self.x = x\n",
        "        self.y = y\n",
        "\n",
        "    def __add__(self, other):\n",
        "        return Vector(self.x + other.x, self.y + other.y)\n"
      ],
      "metadata": {
        "id": "nd_y8_p7HgIu"
      },
      "execution_count": 20,
      "outputs": []
    },
    {
      "cell_type": "code",
      "source": [
        "# 11. Create a class Person with attributes name and age. Add a method greet() that prints \"Hello, my name is {name} and I am {age} years old.\"\n",
        "class Person:\n",
        "    def __init__(self, name, age):\n",
        "        self.name = name\n",
        "        self.age = age\n",
        "        print(f\"Hello, my name is {self.name} and I am {self.age} years old.\")\n",
        ""
      ],
      "metadata": {
        "id": "oiikXR-CHy_x"
      },
      "execution_count": 23,
      "outputs": []
    },
    {
      "cell_type": "code",
      "source": [
        "# 12. Implement a class Student with attributes name and grades. Create a method average_grade() to compute the average of the grades.\n",
        "class Student:\n",
        "    def __init__(self, name, grades):\n",
        "        self.name = name\n",
        "        self.grades = grades"
      ],
      "metadata": {
        "id": "PZP2z_CDIa3B"
      },
      "execution_count": 24,
      "outputs": []
    },
    {
      "cell_type": "code",
      "source": [
        "# 13. Create a class Rectangle with methods set_dimensions() to set the dimensions and area() to calculate the area.\n",
        "class Rectangle:\n",
        "    def __init__(self):\n",
        "        self.length = 0\n",
        "        self.width = 0\n",
        "\n",
        "    def set_dimensions(self, length, width):\n",
        "        self.length = length\n",
        "        self.width = width\n",
        "\n",
        "    def area(self):\n",
        "        return self.length * self.width\n",
        "\n"
      ],
      "metadata": {
        "id": "bVw7ruZQIs8b"
      },
      "execution_count": 25,
      "outputs": []
    },
    {
      "cell_type": "code",
      "source": [
        "#14. Create a class Employee with a method calculate_salary() that computes the salary based on hours worked and hourly rate. Create a derived class Manager that adds a bonus to the salary.\n",
        "class Employee:\n",
        "    def __init__(self, name, hourly_rate):\n",
        "        self.name = name\n",
        "        self.hourly_rate = hourly_rate\n",
        "\n",
        "    def calculate_salary(self, hours_worked):\n",
        "        return hours_worked * self.hourly_rate\n",
        "\n",
        "\n"
      ],
      "metadata": {
        "id": "hkUGpgVgJACC"
      },
      "execution_count": 26,
      "outputs": []
    },
    {
      "cell_type": "code",
      "source": [
        "#15. Create a class Product with attributes name, price, and quantity. Implement a method total_price() that calculates the total price of the product.\n",
        "class Product:\n",
        "    def __init__(self, name, price, quantity):\n",
        "        self.name = name\n",
        "        self.price = price\n",
        "        self.quantity = quantity\n",
        "\n",
        "    def total_price(self):\n",
        "        return self.price * self.quantity"
      ],
      "metadata": {
        "id": "mhNpMAwoJmXB"
      },
      "execution_count": 27,
      "outputs": []
    },
    {
      "cell_type": "code",
      "source": [
        "#16. Create a class Animal with an abstract method sound(). Create two derived classes Cow and Sheep that implement the sound() method.\n",
        "from abc import ABC, abstractmethod\n",
        "\n",
        "class Animal(ABC):\n",
        "    @abstractmethod\n",
        "    def sound(self):\n",
        "        pass\n",
        "\n",
        "class Cow(Animal):\n",
        "    def sound(self):\n",
        "        return \"Moo\"\n",
        "\n",
        "class Sheep(Animal):\n",
        "    def sound(self):\n",
        "        return \"Baa\"\n"
      ],
      "metadata": {
        "id": "01krIT9EJylU"
      },
      "execution_count": 28,
      "outputs": []
    },
    {
      "cell_type": "code",
      "source": [
        "#17. Create a class Book with attributes title, author, and year_published. Add a method get_book_info() that returns a formatted string with the book's details.\n",
        "class Book:\n",
        "    def __init__(self, title, author, year_published):\n",
        "        self.title = title\n",
        "        self.author = author\n",
        "        self.year_published = year\n",
        "        self.year_published = year_published\n",
        "\n",
        "    def get_book_info(self):\n",
        "        return f\"Title: {self.title}\\nAuthor: {self.author}\\nYear Published: {self.year_published}\"\n",
        ""
      ],
      "metadata": {
        "id": "nMgwIUGWKz2b"
      },
      "execution_count": 30,
      "outputs": []
    },
    {
      "cell_type": "code",
      "source": [
        "# 18. Create a class House with attributes address and price. Create a derived class Mansion that adds an attribute number_of_rooms.\n",
        "class House:\n",
        "    def __init__(self, address, price):\n",
        "        self.address = address\n",
        "        self.price = price\n",
        "\n",
        "class Mansion(House):\n",
        "    def __init__(self, address, price, number_of_rooms):\n",
        "        super().__init__(address, price)\n",
        "        self.number_of_rooms = number_of_rooms\n"
      ],
      "metadata": {
        "id": "e67RqKLLLJQG"
      },
      "execution_count": 31,
      "outputs": []
    }
  ]
}